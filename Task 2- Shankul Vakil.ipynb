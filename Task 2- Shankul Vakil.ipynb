{
 "cells": [
  {
   "cell_type": "markdown",
   "metadata": {},
   "source": [
    "# -----------TASK 2: Brief Explanation-------------#\n",
    "--QASM Simulator is used (from Qiskit aer) to generate noise.</br>\n",
    "--Circuit consists of 2 wires (initialized as |0>), 1 RY gate on each, and then a CNOT with Wire-1 as Target.</br>\n",
    "--Circuit outputs the Probablity of each state (|00>,|01>,|10>,|11>).</br>\n",
    "--Gate-Parameters (Theta[0,1]) are randomly initialzed and converged to local minimas at pi/2 & pi respectively.</br>\n",
    "--Natural Gradient Descent is used to optimize the Prob. Dist. to the Desired Values (0,0.5,0.5,0).</br>\n",
    "--Diffirent degrees of Sampling (1/10/100/1000) are done / iteration of GDO.</br>\n",
    "--Bonus-Question answered at the end"
   ]
  },
  {
   "cell_type": "code",
   "execution_count": null,
   "metadata": {},
   "outputs": [],
   "source": [
    "#Importing libraries\n",
    "import qiskit\n",
    "from qiskit import Aer\n",
    "from math import pi\n",
    "import pennylane as qml\n",
    "from pennylane import numpy as np\n",
    "import random\n",
    "import pandas as pd"
   ]
  },
  {
   "cell_type": "code",
   "execution_count": 230,
   "metadata": {},
   "outputs": [],
   "source": [
    "np.set_printoptions(suppress=True)   #Supressing Scientific Notation\n",
    "#QASM Simulator used to generate noise\n",
    "dev = qml.device('qiskit.aer', wires=2,backend='qasm_simulator',shots = 1000)  \n",
    "desired_probs = np.array([0,0.5,0.5,0])   #Desired State Probaility Distribution "
   ]
  },
  {
   "cell_type": "code",
   "execution_count": 3,
   "metadata": {},
   "outputs": [],
   "source": [
    "#Defining the Circuit \n",
    "@qml.qnode(dev)\n",
    "def circuit(thetas):   \n",
    "    qml.RY(thetas[0],wires=0)    \n",
    "    qml.RY(thetas[1],wires=1)\n",
    "    qml.CNOT(wires = [0,1])\n",
    "    return qml.probs(wires=[0,1])   #Returns State Probability Distribution"
   ]
  },
  {
   "cell_type": "code",
   "execution_count": 4,
   "metadata": {},
   "outputs": [],
   "source": [
    "#Defining the Cost Function\n",
    "def cost_function(thetas):\n",
    "    return sum(abs(circuit(thetas)-desired_probs))   "
   ]
  },
  {
   "cell_type": "code",
   "execution_count": 256,
   "metadata": {},
   "outputs": [],
   "source": [
    "#Optimization of State Probablity Distributions\n",
    "iterations = [1,10,100,1000]   #Sampling Values\n",
    "final_thetas = []\n",
    "final_probs = []\n",
    "eta = 0.01   #Learning Rate\n",
    "steps = 200 \n",
    "for iter in iterations:\n",
    "    dev.shots = iter   #Changing the sampling value\n",
    "    #Randomly initializing Gate Parameters\n",
    "    init_thetas = np.array([np.pi*random.random(),2*np.pi*random.random()])   \n",
    "    opt = qml.QNGOptimizer(eta)   #Natural Gradient Descent \n",
    "    thetas_new = init_thetas\n",
    "    for _ in range(steps):\n",
    "          #Metric-Tensor is explicitly Provided to Optimizer\n",
    "            thetas_new = opt.step(cost_function,thetas_new,metric_tensor_fn=circuit.metric_tensor)    \n",
    "    final_thetas.append(thetas_new)   \n",
    "    final_probs.append(circuit(thetas_new))"
   ]
  },
  {
   "cell_type": "code",
   "execution_count": 323,
   "metadata": {},
   "outputs": [
    {
     "data": {
      "text/html": [
       "<div>\n",
       "<style scoped>\n",
       "    .dataframe tbody tr th:only-of-type {\n",
       "        vertical-align: middle;\n",
       "    }\n",
       "\n",
       "    .dataframe tbody tr th {\n",
       "        vertical-align: top;\n",
       "    }\n",
       "\n",
       "    .dataframe thead th {\n",
       "        text-align: right;\n",
       "    }\n",
       "</style>\n",
       "<table border=\"1\" class=\"dataframe\">\n",
       "  <thead>\n",
       "    <tr style=\"text-align: right;\">\n",
       "      <th></th>\n",
       "      <th>|00&gt;</th>\n",
       "      <th>|01&gt;</th>\n",
       "      <th>|10&gt;</th>\n",
       "      <th>|11&gt;</th>\n",
       "    </tr>\n",
       "  </thead>\n",
       "  <tbody>\n",
       "    <tr>\n",
       "      <th>1</th>\n",
       "      <td>0.00</td>\n",
       "      <td>0.48</td>\n",
       "      <td>0.52</td>\n",
       "      <td>0.00</td>\n",
       "    </tr>\n",
       "    <tr>\n",
       "      <th>10</th>\n",
       "      <td>0.00</td>\n",
       "      <td>0.49</td>\n",
       "      <td>0.51</td>\n",
       "      <td>0.00</td>\n",
       "    </tr>\n",
       "    <tr>\n",
       "      <th>100</th>\n",
       "      <td>0.00</td>\n",
       "      <td>0.48</td>\n",
       "      <td>0.51</td>\n",
       "      <td>0.01</td>\n",
       "    </tr>\n",
       "    <tr>\n",
       "      <th>1000</th>\n",
       "      <td>0.00</td>\n",
       "      <td>0.49</td>\n",
       "      <td>0.51</td>\n",
       "      <td>0.00</td>\n",
       "    </tr>\n",
       "  </tbody>\n",
       "</table>\n",
       "</div>"
      ],
      "text/plain": [
       "      |00>  |01>  |10>  |11>\n",
       "1     0.00  0.48  0.52  0.00\n",
       "10    0.00  0.49  0.51  0.00\n",
       "100   0.00  0.48  0.51  0.01\n",
       "1000  0.00  0.49  0.51  0.00"
      ]
     },
     "metadata": {},
     "output_type": "display_data"
    },
    {
     "name": "stdout",
     "output_type": "stream",
     "text": [
      "Probability Distribution \n",
      "for Different Iterations\n",
      "\n",
      "\n"
     ]
    },
    {
     "data": {
      "text/html": [
       "<div>\n",
       "<style scoped>\n",
       "    .dataframe tbody tr th:only-of-type {\n",
       "        vertical-align: middle;\n",
       "    }\n",
       "\n",
       "    .dataframe tbody tr th {\n",
       "        vertical-align: top;\n",
       "    }\n",
       "\n",
       "    .dataframe thead th {\n",
       "        text-align: right;\n",
       "    }\n",
       "</style>\n",
       "<table border=\"1\" class=\"dataframe\">\n",
       "  <thead>\n",
       "    <tr style=\"text-align: right;\">\n",
       "      <th></th>\n",
       "      <th>Theta-0</th>\n",
       "      <th>Theta-1</th>\n",
       "    </tr>\n",
       "  </thead>\n",
       "  <tbody>\n",
       "    <tr>\n",
       "      <th>1</th>\n",
       "      <td>91.34</td>\n",
       "      <td>177.04</td>\n",
       "    </tr>\n",
       "    <tr>\n",
       "      <th>10</th>\n",
       "      <td>91.99</td>\n",
       "      <td>182.31</td>\n",
       "    </tr>\n",
       "    <tr>\n",
       "      <th>100</th>\n",
       "      <td>91.05</td>\n",
       "      <td>189.86</td>\n",
       "    </tr>\n",
       "    <tr>\n",
       "      <th>1000</th>\n",
       "      <td>91.18</td>\n",
       "      <td>182.59</td>\n",
       "    </tr>\n",
       "  </tbody>\n",
       "</table>\n",
       "</div>"
      ],
      "text/plain": [
       "      Theta-0  Theta-1\n",
       "1       91.34   177.04\n",
       "10      91.99   182.31\n",
       "100     91.05   189.86\n",
       "1000    91.18   182.59"
      ]
     },
     "metadata": {},
     "output_type": "display_data"
    },
    {
     "name": "stdout",
     "output_type": "stream",
     "text": [
      "Paramter Values for\n",
      "Different Iterations\n",
      "\t(in Degrees)\n",
      "\n",
      "\n"
     ]
    }
   ],
   "source": [
    "#Displaying & Comparing Results\n",
    "final_thetas = np.array(final_thetas)*(180/(np.pi))   #Converting from radians to degrees\n",
    "final_probs = np.array(final_probs)\n",
    "pd.options.display.float_format = \"{:,.2f}\".format   #Rounding to 2 Decimals\n",
    "row_labels = ['1', '10', '100', '1000']\n",
    "column_labels =  ['|00>', '|01>', '|10>', '|11>']\n",
    "column_labels2 = ['Theta-0','Theta-1']\n",
    "df_probs =  pd.DataFrame(final_probs, columns=column_labels, index=row_labels)\n",
    "df_thetas = pd.DataFrame(final_thetas, columns=column_labels2, index=row_labels)\n",
    "df_probs.style.set_caption('State Probabilties for Each Sampling Case')\n",
    "df_thetas.style.set_caption('Parameter Values for Each Sampling Case')\n",
    "display(df_probs)\n",
    "print(\"Probability Distribution \\nfor Different Iterations\\n\\n\")\n",
    "display(df_thetas)\n",
    "print(\"Paramter Values for\\nDifferent Iterations\\n\\t(in Degrees)\\n\\n\")"
   ]
  },
  {
   "cell_type": "markdown",
   "metadata": {},
   "source": [
    "# ---Bonus Question---#\n",
    "--The Circuit constructed above can output |01> - |10>  when the Parameter for RY-gate on Wire-0 is -pi/2,3pi/2..etc.</br>\n",
    "--Thus, we initialize theta[0] b/w (0-Pi), so gradient descent converges it to the local minima at pi/2.</br>\n",
    "--Thus outputing |01> + |10> always.</br>"
   ]
  }
 ],
 "metadata": {
  "kernelspec": {
   "display_name": "Python 3",
   "language": "python",
   "name": "python3"
  },
  "language_info": {
   "codemirror_mode": {
    "name": "ipython",
    "version": 3
   },
   "file_extension": ".py",
   "mimetype": "text/x-python",
   "name": "python",
   "nbconvert_exporter": "python",
   "pygments_lexer": "ipython3",
   "version": "3.7.6"
  }
 },
 "nbformat": 4,
 "nbformat_minor": 4
}
